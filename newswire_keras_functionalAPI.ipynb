{
 "cells": [
  {
   "cell_type": "code",
   "execution_count": 1,
   "metadata": {},
   "outputs": [
    {
     "name": "stderr",
     "output_type": "stream",
     "text": [
      "C:\\Users\\Bipin Krishnan P\\Anaconda3\\lib\\site-packages\\h5py\\__init__.py:36: FutureWarning: Conversion of the second argument of issubdtype from `float` to `np.floating` is deprecated. In future, it will be treated as `np.float64 == np.dtype(float).type`.\n",
      "  from ._conv import register_converters as _register_converters\n"
     ]
    }
   ],
   "source": [
    "import numpy as np\n",
    "from tensorflow.keras import datasets\n",
    "from tensorflow.keras import layers, Model\n",
    "from tensorflow.keras.utils import to_categorical"
   ]
  },
  {
   "cell_type": "code",
   "execution_count": 2,
   "metadata": {},
   "outputs": [],
   "source": [
    "num_words = 10000\n",
    "max_len = 500"
   ]
  },
  {
   "cell_type": "code",
   "execution_count": 3,
   "metadata": {},
   "outputs": [],
   "source": [
    "(train_x, train_y), (test_x, test_y) = datasets.reuters.load_data(num_words=num_words, maxlen=max_len)"
   ]
  },
  {
   "cell_type": "code",
   "execution_count": 4,
   "metadata": {},
   "outputs": [],
   "source": [
    "train_y = to_categorical(train_y, 46)\n",
    "test_y = to_categorical(test_y, 46)"
   ]
  },
  {
   "cell_type": "code",
   "execution_count": 5,
   "metadata": {},
   "outputs": [],
   "source": [
    "def ohe(data):\n",
    "    row = data.shape[0]\n",
    "    data_ohe = np.zeros((row, num_words))\n",
    "    \n",
    "    for i, val in enumerate(data):\n",
    "        data_ohe[i, val] = 1\n",
    "    \n",
    "    return data_ohe"
   ]
  },
  {
   "cell_type": "code",
   "execution_count": 6,
   "metadata": {},
   "outputs": [],
   "source": [
    "train_x_ohe = ohe(train_x)\n",
    "test_x_ohe = ohe(test_x)"
   ]
  },
  {
   "cell_type": "code",
   "execution_count": 7,
   "metadata": {},
   "outputs": [],
   "source": [
    "input_tensor = layers.Input((num_words,))\n",
    "\n",
    "d1 = layers.Dense(300, activation='relu')(input_tensor)\n",
    "D1 = layers.Dropout(0.5)(d1)\n",
    "\n",
    "d2 = layers.Dense(500, activation='relu')(D1)\n",
    "D2 = layers.Dropout(0.5)(d2)\n",
    "\n",
    "out = layers.Dense(46, activation='softmax')(D2)\n",
    "\n",
    "model = Model(inputs=input_tensor, outputs=out)"
   ]
  },
  {
   "cell_type": "code",
   "execution_count": 8,
   "metadata": {},
   "outputs": [
    {
     "name": "stdout",
     "output_type": "stream",
     "text": [
      "_________________________________________________________________\n",
      "Layer (type)                 Output Shape              Param #   \n",
      "=================================================================\n",
      "input_1 (InputLayer)         (None, 10000)             0         \n",
      "_________________________________________________________________\n",
      "dense (Dense)                (None, 300)               3000300   \n",
      "_________________________________________________________________\n",
      "dropout (Dropout)            (None, 300)               0         \n",
      "_________________________________________________________________\n",
      "dense_1 (Dense)              (None, 500)               150500    \n",
      "_________________________________________________________________\n",
      "dropout_1 (Dropout)          (None, 500)               0         \n",
      "_________________________________________________________________\n",
      "dense_2 (Dense)              (None, 46)                23046     \n",
      "=================================================================\n",
      "Total params: 3,173,846\n",
      "Trainable params: 3,173,846\n",
      "Non-trainable params: 0\n",
      "_________________________________________________________________\n"
     ]
    }
   ],
   "source": [
    "model.summary()"
   ]
  },
  {
   "cell_type": "code",
   "execution_count": 10,
   "metadata": {},
   "outputs": [],
   "source": [
    "model.compile(optimizer='rmsprop', loss='categorical_crossentropy', metrics=['acc'])"
   ]
  },
  {
   "cell_type": "code",
   "execution_count": 11,
   "metadata": {},
   "outputs": [
    {
     "name": "stdout",
     "output_type": "stream",
     "text": [
      "Train on 7758 samples, validate on 863 samples\n",
      "Epoch 1/5\n",
      "7758/7758 [==============================] - 22s 3ms/step - loss: 1.4656 - acc: 0.6664 - val_loss: 1.2423 - val_acc: 0.7462\n",
      "Epoch 2/5\n",
      "7758/7758 [==============================] - 21s 3ms/step - loss: 0.9959 - acc: 0.7827 - val_loss: 1.1953 - val_acc: 0.7717\n",
      "Epoch 3/5\n",
      "7758/7758 [==============================] - 21s 3ms/step - loss: 0.8049 - acc: 0.8296 - val_loss: 1.1773 - val_acc: 0.7810\n",
      "Epoch 4/5\n",
      "7758/7758 [==============================] - 21s 3ms/step - loss: 0.6829 - acc: 0.8567 - val_loss: 1.2181 - val_acc: 0.8030\n",
      "Epoch 5/5\n",
      "7758/7758 [==============================] - 21s 3ms/step - loss: 0.6102 - acc: 0.8766 - val_loss: 1.2843 - val_acc: 0.7914\n"
     ]
    },
    {
     "data": {
      "text/plain": [
       "<tensorflow.python.keras.callbacks.History at 0x3a9ee56668>"
      ]
     },
     "execution_count": 11,
     "metadata": {},
     "output_type": "execute_result"
    }
   ],
   "source": [
    "model.fit(train_x_ohe, train_y, validation_split=0.1, epochs=5)"
   ]
  },
  {
   "cell_type": "code",
   "execution_count": 12,
   "metadata": {},
   "outputs": [
    {
     "name": "stdout",
     "output_type": "stream",
     "text": [
      "2156/2156 [==============================] - 1s 414us/step\n"
     ]
    },
    {
     "data": {
      "text/plain": [
       "[1.2093671907520471, 0.793599257995556]"
      ]
     },
     "execution_count": 12,
     "metadata": {},
     "output_type": "execute_result"
    }
   ],
   "source": [
    "model.evaluate(test_x_ohe, test_y)"
   ]
  },
  {
   "cell_type": "code",
   "execution_count": 13,
   "metadata": {},
   "outputs": [],
   "source": [
    "pred = model.predict(test_x_ohe)"
   ]
  },
  {
   "cell_type": "code",
   "execution_count": 15,
   "metadata": {},
   "outputs": [
    {
     "name": "stdout",
     "output_type": "stream",
     "text": [
      "\n",
      "Original value:   5\n",
      "Predicted value:  1\n",
      "\n",
      "Original value:   4\n",
      "Predicted value:  4\n",
      "\n",
      "Original value:   1\n",
      "Predicted value:  1\n",
      "\n",
      "Original value:   3\n",
      "Predicted value:  3\n",
      "\n",
      "Original value:   1\n",
      "Predicted value:  1\n",
      "\n",
      "Original value:   23\n",
      "Predicted value:  3\n",
      "\n",
      "Original value:   3\n",
      "Predicted value:  3\n",
      "\n",
      "Original value:   19\n",
      "Predicted value:  19\n",
      "\n",
      "Original value:   3\n",
      "Predicted value:  3\n",
      "\n",
      "Original value:   8\n",
      "Predicted value:  8\n"
     ]
    }
   ],
   "source": [
    "for i in range(10, 20):\n",
    "    print(\"\\nOriginal value:  \", test_y[i].argmax())\n",
    "    print(\"Predicted value: \", pred[i].argmax())"
   ]
  },
  {
   "cell_type": "code",
   "execution_count": null,
   "metadata": {},
   "outputs": [],
   "source": []
  }
 ],
 "metadata": {
  "kernelspec": {
   "display_name": "Python 3",
   "language": "python",
   "name": "python3"
  },
  "language_info": {
   "codemirror_mode": {
    "name": "ipython",
    "version": 3
   },
   "file_extension": ".py",
   "mimetype": "text/x-python",
   "name": "python",
   "nbconvert_exporter": "python",
   "pygments_lexer": "ipython3",
   "version": "3.6.5"
  }
 },
 "nbformat": 4,
 "nbformat_minor": 2
}
