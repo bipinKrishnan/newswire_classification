{
 "cells": [
  {
   "cell_type": "code",
   "execution_count": 1,
   "metadata": {},
   "outputs": [
    {
     "name": "stderr",
     "output_type": "stream",
     "text": [
      "C:\\Users\\Bipin Krishnan P\\Anaconda3\\lib\\site-packages\\h5py\\__init__.py:36: FutureWarning: Conversion of the second argument of issubdtype from `float` to `np.floating` is deprecated. In future, it will be treated as `np.float64 == np.dtype(float).type`.\n",
      "  from ._conv import register_converters as _register_converters\n"
     ]
    }
   ],
   "source": [
    "import numpy as np\n",
    "from tensorflow.keras.utils import to_categorical\n",
    "from tensorflow.keras import layers, Sequential\n",
    "from tensorflow.keras.datasets import reuters"
   ]
  },
  {
   "cell_type": "code",
   "execution_count": 2,
   "metadata": {},
   "outputs": [],
   "source": [
    "num_words = 10000\n",
    "max_len = 500"
   ]
  },
  {
   "cell_type": "code",
   "execution_count": 3,
   "metadata": {
    "scrolled": true
   },
   "outputs": [],
   "source": [
    "(train_x, train_y), (test_x, test_y) = reuters.load_data(num_words=num_words, maxlen=max_len)"
   ]
  },
  {
   "cell_type": "code",
   "execution_count": 4,
   "metadata": {},
   "outputs": [],
   "source": [
    "train_y = to_categorical(train_y, num_classes=46)\n",
    "test_y = to_categorical(test_y, num_classes=46)"
   ]
  },
  {
   "cell_type": "code",
   "execution_count": 5,
   "metadata": {},
   "outputs": [],
   "source": [
    "def ohe(data):\n",
    "    row = data.shape[0]\n",
    "    data_ohe = np.zeros((row, num_words))\n",
    "    \n",
    "    for i, val in enumerate(data):\n",
    "        data_ohe[i, val] = 1\n",
    "    \n",
    "    return data_ohe"
   ]
  },
  {
   "cell_type": "code",
   "execution_count": 6,
   "metadata": {},
   "outputs": [],
   "source": [
    "train_x_ohe = ohe(train_x)\n",
    "test_x_ohe = ohe(test_x)"
   ]
  },
  {
   "cell_type": "code",
   "execution_count": 12,
   "metadata": {
    "scrolled": true
   },
   "outputs": [],
   "source": [
    "model = Sequential()\n",
    "model.add(layers.Dense(300, activation='relu'))\n",
    "model.add(layers.Dropout(0.5))\n",
    "\n",
    "model.add(layers.Dense(500, activation='relu'))\n",
    "model.add(layers.Dropout(0.5))\n",
    "\n",
    "model.add(layers.Dense(46, activation='softmax'))"
   ]
  },
  {
   "cell_type": "code",
   "execution_count": 13,
   "metadata": {},
   "outputs": [],
   "source": [
    "model.compile(optimizer='rmsprop', loss='categorical_crossentropy', metrics=['acc'])"
   ]
  },
  {
   "cell_type": "code",
   "execution_count": 14,
   "metadata": {
    "scrolled": true
   },
   "outputs": [
    {
     "name": "stdout",
     "output_type": "stream",
     "text": [
      "Train on 7758 samples, validate on 863 samples\n",
      "Epoch 1/5\n",
      "7758/7758 [==============================] - 22s 3ms/step - loss: 1.4791 - acc: 0.6601 - val_loss: 1.2482 - val_acc: 0.7277\n",
      "Epoch 2/5\n",
      "7758/7758 [==============================] - 21s 3ms/step - loss: 0.9873 - acc: 0.7900 - val_loss: 1.1360 - val_acc: 0.7822\n",
      "Epoch 3/5\n",
      "7758/7758 [==============================] - 21s 3ms/step - loss: 0.7845 - acc: 0.8371 - val_loss: 1.1663 - val_acc: 0.7926\n",
      "Epoch 4/5\n",
      "7758/7758 [==============================] - 21s 3ms/step - loss: 0.6699 - acc: 0.8621 - val_loss: 1.2038 - val_acc: 0.8030\n",
      "Epoch 5/5\n",
      "7758/7758 [==============================] - 23s 3ms/step - loss: 0.5972 - acc: 0.8790 - val_loss: 1.2724 - val_acc: 0.7914\n"
     ]
    },
    {
     "data": {
      "text/plain": [
       "<tensorflow.python.keras.callbacks.History at 0xf16a65e80>"
      ]
     },
     "execution_count": 14,
     "metadata": {},
     "output_type": "execute_result"
    }
   ],
   "source": [
    "model.fit(train_x_ohe, train_y, validation_split=0.1, epochs=5)"
   ]
  },
  {
   "cell_type": "code",
   "execution_count": 10,
   "metadata": {},
   "outputs": [
    {
     "name": "stdout",
     "output_type": "stream",
     "text": [
      "2156/2156 [==============================] - 1s 422us/step\n"
     ]
    },
    {
     "data": {
      "text/plain": [
       "[1.033966426062009, 0.8005565863814558]"
      ]
     },
     "execution_count": 10,
     "metadata": {},
     "output_type": "execute_result"
    }
   ],
   "source": [
    "model.evaluate(test_x_ohe, test_y)"
   ]
  },
  {
   "cell_type": "code",
   "execution_count": 16,
   "metadata": {},
   "outputs": [],
   "source": [
    "pred = model.predict(test_x_ohe)"
   ]
  },
  {
   "cell_type": "code",
   "execution_count": 26,
   "metadata": {},
   "outputs": [
    {
     "name": "stdout",
     "output_type": "stream",
     "text": [
      "\n",
      "Original value:   25\n",
      "Predicted value:  12\n",
      "\n",
      "Original value:   3\n",
      "Predicted value:  3\n",
      "\n",
      "Original value:   1\n",
      "Predicted value:  1\n",
      "\n",
      "Original value:   4\n",
      "Predicted value:  4\n",
      "\n",
      "Original value:   4\n",
      "Predicted value:  13\n",
      "\n",
      "Original value:   3\n",
      "Predicted value:  3\n",
      "\n",
      "Original value:   3\n",
      "Predicted value:  3\n",
      "\n",
      "Original value:   3\n",
      "Predicted value:  3\n",
      "\n",
      "Original value:   3\n",
      "Predicted value:  3\n",
      "\n",
      "Original value:   3\n",
      "Predicted value:  3\n"
     ]
    }
   ],
   "source": [
    "for i in range(10, 20):\n",
    "    print(\"\\nOriginal value:  \", test_y[i].argmax())\n",
    "    print(\"Predicted value: \", pred[i].argmax())"
   ]
  },
  {
   "cell_type": "code",
   "execution_count": null,
   "metadata": {},
   "outputs": [],
   "source": []
  }
 ],
 "metadata": {
  "kernelspec": {
   "display_name": "Python 3",
   "language": "python",
   "name": "python3"
  },
  "language_info": {
   "codemirror_mode": {
    "name": "ipython",
    "version": 3
   },
   "file_extension": ".py",
   "mimetype": "text/x-python",
   "name": "python",
   "nbconvert_exporter": "python",
   "pygments_lexer": "ipython3",
   "version": "3.6.5"
  }
 },
 "nbformat": 4,
 "nbformat_minor": 2
}
